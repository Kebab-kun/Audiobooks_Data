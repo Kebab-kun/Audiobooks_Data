{
 "cells": [
  {
   "cell_type": "code",
   "execution_count": 1,
   "id": "e5bf796e-38af-47a4-83cd-907ace16f121",
   "metadata": {},
   "outputs": [],
   "source": [
    "import numpy as np\n",
    "from sklearn import preprocessing\n",
    "import pandas as pd\n",
    "import tensorflow as tf"
   ]
  },
  {
   "cell_type": "code",
   "execution_count": 2,
   "id": "35ff20ad-8313-403f-83e6-6304e024632f",
   "metadata": {},
   "outputs": [],
   "source": [
    "df = pd.read_csv(\"Audiobooks_data(1).csv\")"
   ]
  },
  {
   "cell_type": "code",
   "execution_count": 3,
   "id": "96264cd0-3f25-4a65-bc69-b6799c5396fd",
   "metadata": {},
   "outputs": [
    {
     "data": {
      "text/html": [
       "<div>\n",
       "<style scoped>\n",
       "    .dataframe tbody tr th:only-of-type {\n",
       "        vertical-align: middle;\n",
       "    }\n",
       "\n",
       "    .dataframe tbody tr th {\n",
       "        vertical-align: top;\n",
       "    }\n",
       "\n",
       "    .dataframe thead th {\n",
       "        text-align: right;\n",
       "    }\n",
       "</style>\n",
       "<table border=\"1\" class=\"dataframe\">\n",
       "  <thead>\n",
       "    <tr style=\"text-align: right;\">\n",
       "      <th></th>\n",
       "      <th>ID</th>\n",
       "      <th>BookLength(mins)_overall</th>\n",
       "      <th>BookLength(mins)_avg</th>\n",
       "      <th>Price_overall</th>\n",
       "      <th>Price_avg</th>\n",
       "      <th>Review</th>\n",
       "      <th>Review10/10</th>\n",
       "      <th>Minutes_listened</th>\n",
       "      <th>Completion</th>\n",
       "      <th>Support_requests</th>\n",
       "      <th>Last_visited_minus_purchase_date</th>\n",
       "      <th>Targets</th>\n",
       "    </tr>\n",
       "  </thead>\n",
       "  <tbody>\n",
       "    <tr>\n",
       "      <th>0</th>\n",
       "      <td>994</td>\n",
       "      <td>1620.0</td>\n",
       "      <td>1620</td>\n",
       "      <td>19.73</td>\n",
       "      <td>19.73</td>\n",
       "      <td>1</td>\n",
       "      <td>10.00</td>\n",
       "      <td>0.99</td>\n",
       "      <td>1603.8</td>\n",
       "      <td>5</td>\n",
       "      <td>92</td>\n",
       "      <td>0</td>\n",
       "    </tr>\n",
       "    <tr>\n",
       "      <th>1</th>\n",
       "      <td>1143</td>\n",
       "      <td>2160.0</td>\n",
       "      <td>2160</td>\n",
       "      <td>5.33</td>\n",
       "      <td>5.33</td>\n",
       "      <td>0</td>\n",
       "      <td>8.91</td>\n",
       "      <td>0.00</td>\n",
       "      <td>0.0</td>\n",
       "      <td>0</td>\n",
       "      <td>0</td>\n",
       "      <td>0</td>\n",
       "    </tr>\n",
       "    <tr>\n",
       "      <th>2</th>\n",
       "      <td>2059</td>\n",
       "      <td>2160.0</td>\n",
       "      <td>2160</td>\n",
       "      <td>5.33</td>\n",
       "      <td>5.33</td>\n",
       "      <td>0</td>\n",
       "      <td>8.91</td>\n",
       "      <td>0.00</td>\n",
       "      <td>0.0</td>\n",
       "      <td>0</td>\n",
       "      <td>388</td>\n",
       "      <td>0</td>\n",
       "    </tr>\n",
       "    <tr>\n",
       "      <th>3</th>\n",
       "      <td>2882</td>\n",
       "      <td>1620.0</td>\n",
       "      <td>1620</td>\n",
       "      <td>5.96</td>\n",
       "      <td>5.96</td>\n",
       "      <td>0</td>\n",
       "      <td>8.91</td>\n",
       "      <td>0.42</td>\n",
       "      <td>680.4</td>\n",
       "      <td>1</td>\n",
       "      <td>129</td>\n",
       "      <td>0</td>\n",
       "    </tr>\n",
       "    <tr>\n",
       "      <th>4</th>\n",
       "      <td>3342</td>\n",
       "      <td>2160.0</td>\n",
       "      <td>2160</td>\n",
       "      <td>5.33</td>\n",
       "      <td>5.33</td>\n",
       "      <td>0</td>\n",
       "      <td>8.91</td>\n",
       "      <td>0.22</td>\n",
       "      <td>475.2</td>\n",
       "      <td>0</td>\n",
       "      <td>361</td>\n",
       "      <td>0</td>\n",
       "    </tr>\n",
       "    <tr>\n",
       "      <th>...</th>\n",
       "      <td>...</td>\n",
       "      <td>...</td>\n",
       "      <td>...</td>\n",
       "      <td>...</td>\n",
       "      <td>...</td>\n",
       "      <td>...</td>\n",
       "      <td>...</td>\n",
       "      <td>...</td>\n",
       "      <td>...</td>\n",
       "      <td>...</td>\n",
       "      <td>...</td>\n",
       "      <td>...</td>\n",
       "    </tr>\n",
       "    <tr>\n",
       "      <th>14079</th>\n",
       "      <td>28220</td>\n",
       "      <td>1620.0</td>\n",
       "      <td>1620</td>\n",
       "      <td>5.33</td>\n",
       "      <td>5.33</td>\n",
       "      <td>1</td>\n",
       "      <td>9.00</td>\n",
       "      <td>0.61</td>\n",
       "      <td>988.2</td>\n",
       "      <td>0</td>\n",
       "      <td>4</td>\n",
       "      <td>0</td>\n",
       "    </tr>\n",
       "    <tr>\n",
       "      <th>14080</th>\n",
       "      <td>28671</td>\n",
       "      <td>1080.0</td>\n",
       "      <td>1080</td>\n",
       "      <td>6.55</td>\n",
       "      <td>6.55</td>\n",
       "      <td>1</td>\n",
       "      <td>6.00</td>\n",
       "      <td>0.29</td>\n",
       "      <td>313.2</td>\n",
       "      <td>0</td>\n",
       "      <td>29</td>\n",
       "      <td>0</td>\n",
       "    </tr>\n",
       "    <tr>\n",
       "      <th>14081</th>\n",
       "      <td>31134</td>\n",
       "      <td>2160.0</td>\n",
       "      <td>2160</td>\n",
       "      <td>6.14</td>\n",
       "      <td>6.14</td>\n",
       "      <td>0</td>\n",
       "      <td>8.91</td>\n",
       "      <td>0.00</td>\n",
       "      <td>0.0</td>\n",
       "      <td>0</td>\n",
       "      <td>0</td>\n",
       "      <td>0</td>\n",
       "    </tr>\n",
       "    <tr>\n",
       "      <th>14082</th>\n",
       "      <td>32832</td>\n",
       "      <td>1620.0</td>\n",
       "      <td>1620</td>\n",
       "      <td>5.33</td>\n",
       "      <td>5.33</td>\n",
       "      <td>1</td>\n",
       "      <td>8.00</td>\n",
       "      <td>0.38</td>\n",
       "      <td>615.6</td>\n",
       "      <td>0</td>\n",
       "      <td>90</td>\n",
       "      <td>0</td>\n",
       "    </tr>\n",
       "    <tr>\n",
       "      <th>14083</th>\n",
       "      <td>251</td>\n",
       "      <td>1674.0</td>\n",
       "      <td>3348</td>\n",
       "      <td>5.33</td>\n",
       "      <td>10.67</td>\n",
       "      <td>0</td>\n",
       "      <td>8.91</td>\n",
       "      <td>0.00</td>\n",
       "      <td>0.0</td>\n",
       "      <td>0</td>\n",
       "      <td>0</td>\n",
       "      <td>1</td>\n",
       "    </tr>\n",
       "  </tbody>\n",
       "</table>\n",
       "<p>14084 rows × 12 columns</p>\n",
       "</div>"
      ],
      "text/plain": [
       "          ID  BookLength(mins)_overall  BookLength(mins)_avg  Price_overall  \\\n",
       "0        994                    1620.0                  1620          19.73   \n",
       "1       1143                    2160.0                  2160           5.33   \n",
       "2       2059                    2160.0                  2160           5.33   \n",
       "3       2882                    1620.0                  1620           5.96   \n",
       "4       3342                    2160.0                  2160           5.33   \n",
       "...      ...                       ...                   ...            ...   \n",
       "14079  28220                    1620.0                  1620           5.33   \n",
       "14080  28671                    1080.0                  1080           6.55   \n",
       "14081  31134                    2160.0                  2160           6.14   \n",
       "14082  32832                    1620.0                  1620           5.33   \n",
       "14083    251                    1674.0                  3348           5.33   \n",
       "\n",
       "       Price_avg  Review  Review10/10  Minutes_listened  Completion  \\\n",
       "0          19.73       1        10.00              0.99      1603.8   \n",
       "1           5.33       0         8.91              0.00         0.0   \n",
       "2           5.33       0         8.91              0.00         0.0   \n",
       "3           5.96       0         8.91              0.42       680.4   \n",
       "4           5.33       0         8.91              0.22       475.2   \n",
       "...          ...     ...          ...               ...         ...   \n",
       "14079       5.33       1         9.00              0.61       988.2   \n",
       "14080       6.55       1         6.00              0.29       313.2   \n",
       "14081       6.14       0         8.91              0.00         0.0   \n",
       "14082       5.33       1         8.00              0.38       615.6   \n",
       "14083      10.67       0         8.91              0.00         0.0   \n",
       "\n",
       "       Support_requests  Last_visited_minus_purchase_date  Targets  \n",
       "0                     5                                92        0  \n",
       "1                     0                                 0        0  \n",
       "2                     0                               388        0  \n",
       "3                     1                               129        0  \n",
       "4                     0                               361        0  \n",
       "...                 ...                               ...      ...  \n",
       "14079                 0                                 4        0  \n",
       "14080                 0                                29        0  \n",
       "14081                 0                                 0        0  \n",
       "14082                 0                                90        0  \n",
       "14083                 0                                 0        1  \n",
       "\n",
       "[14084 rows x 12 columns]"
      ]
     },
     "execution_count": 3,
     "metadata": {},
     "output_type": "execute_result"
    }
   ],
   "source": [
    "df"
   ]
  },
  {
   "cell_type": "code",
   "execution_count": 4,
   "id": "572a670a-9dfe-4367-8d6f-f1193196fb34",
   "metadata": {},
   "outputs": [
    {
     "data": {
      "text/plain": [
       "(14084, 12)"
      ]
     },
     "execution_count": 4,
     "metadata": {},
     "output_type": "execute_result"
    }
   ],
   "source": [
    "df.shape"
   ]
  },
  {
   "cell_type": "code",
   "execution_count": 5,
   "id": "90ead25f-1dbe-4f67-8b97-fb37f192bd7e",
   "metadata": {},
   "outputs": [
    {
     "data": {
      "text/plain": [
       "ID                                  0\n",
       "BookLength(mins)_overall            0\n",
       "BookLength(mins)_avg                0\n",
       "Price_overall                       0\n",
       "Price_avg                           0\n",
       "Review                              0\n",
       "Review10/10                         0\n",
       "Minutes_listened                    0\n",
       "Completion                          0\n",
       "Support_requests                    0\n",
       "Last_visited_minus_purchase_date    0\n",
       "Targets                             0\n",
       "dtype: int64"
      ]
     },
     "execution_count": 5,
     "metadata": {},
     "output_type": "execute_result"
    }
   ],
   "source": [
    "df.isna().sum()"
   ]
  },
  {
   "cell_type": "code",
   "execution_count": 6,
   "id": "6c0147ba-0c66-4db2-9550-6ac2e6240895",
   "metadata": {},
   "outputs": [],
   "source": [
    "df = df.sample(frac = 1)"
   ]
  },
  {
   "cell_type": "code",
   "execution_count": 7,
   "id": "225bdfee-5e79-48d9-a98f-4353cde1340a",
   "metadata": {},
   "outputs": [],
   "source": [
    "targets = df.pop(\"Targets\")"
   ]
  },
  {
   "cell_type": "code",
   "execution_count": 8,
   "id": "23bb5d3a-680c-4516-86f7-f39f85e0eb62",
   "metadata": {},
   "outputs": [
    {
     "data": {
      "text/plain": [
       "1509     1\n",
       "1305     0\n",
       "12825    0\n",
       "7586     0\n",
       "1603     0\n",
       "        ..\n",
       "2288     0\n",
       "2750     0\n",
       "3003     0\n",
       "10012    0\n",
       "11103    0\n",
       "Name: Targets, Length: 14084, dtype: int64"
      ]
     },
     "execution_count": 8,
     "metadata": {},
     "output_type": "execute_result"
    }
   ],
   "source": [
    "targets"
   ]
  },
  {
   "cell_type": "code",
   "execution_count": null,
   "id": "ce898872-52f4-41f2-bdd4-93898dbc1728",
   "metadata": {},
   "outputs": [],
   "source": []
  },
  {
   "cell_type": "code",
   "execution_count": 9,
   "id": "777d202d-5af5-43e6-a583-d141873d3159",
   "metadata": {},
   "outputs": [],
   "source": [
    "train_size = int(14084*0.8)\n",
    "validation_size = int(14084*0.1)\n",
    "\n",
    "train_inputs = df[:train_size]\n",
    "train_targets = targets[:train_size]\n",
    "\n",
    "validation_inputs = df[train_size:train_size+validation_size]\n",
    "validation_targets = targets[train_size:train_size+validation_size]\n",
    "\n",
    "test_inputs = df[train_size:train_size+validation_size:]\n",
    "test_targets = targets[train_size:train_size+validation_size:]"
   ]
  },
  {
   "cell_type": "code",
   "execution_count": 10,
   "id": "9b718c28-4b86-413f-b61b-550a68a3f54e",
   "metadata": {},
   "outputs": [
    {
     "data": {
      "text/plain": [
       "(11267, 11)"
      ]
     },
     "execution_count": 10,
     "metadata": {},
     "output_type": "execute_result"
    }
   ],
   "source": [
    "train_inputs.shape"
   ]
  },
  {
   "cell_type": "code",
   "execution_count": 11,
   "id": "ffbb902d-0d85-4664-a290-81107414558d",
   "metadata": {},
   "outputs": [
    {
     "data": {
      "text/plain": [
       "(11267,)"
      ]
     },
     "execution_count": 11,
     "metadata": {},
     "output_type": "execute_result"
    }
   ],
   "source": [
    "train_targets.shape"
   ]
  },
  {
   "cell_type": "code",
   "execution_count": 12,
   "id": "010ab3c9-e0a3-412f-875b-89a09eff01bd",
   "metadata": {},
   "outputs": [
    {
     "name": "stdout",
     "output_type": "stream",
     "text": [
      "Epoch 1/100\n",
      "113/113 - 2s - loss: 161.6494 - accuracy: 0.7496 - val_loss: 13.5960 - val_accuracy: 0.8686 - 2s/epoch - 14ms/step\n",
      "Epoch 2/100\n",
      "113/113 - 1s - loss: 8.9652 - accuracy: 0.7658 - val_loss: 0.5524 - val_accuracy: 0.8707 - 630ms/epoch - 6ms/step\n",
      "Epoch 3/100\n",
      "113/113 - 1s - loss: 1.3191 - accuracy: 0.8008 - val_loss: 0.5530 - val_accuracy: 0.8629 - 623ms/epoch - 6ms/step\n",
      "Epoch 4/100\n",
      "113/113 - 1s - loss: 0.7792 - accuracy: 0.8263 - val_loss: 0.5595 - val_accuracy: 0.8622 - 625ms/epoch - 6ms/step\n",
      "Epoch 5/100\n",
      "113/113 - 1s - loss: 0.6066 - accuracy: 0.8339 - val_loss: 0.5338 - val_accuracy: 0.8608 - 618ms/epoch - 5ms/step\n",
      "Epoch 6/100\n",
      "113/113 - 1s - loss: 0.5536 - accuracy: 0.8366 - val_loss: 0.4184 - val_accuracy: 0.8622 - 625ms/epoch - 6ms/step\n",
      "Epoch 7/100\n",
      "113/113 - 1s - loss: 0.4815 - accuracy: 0.8402 - val_loss: 0.4143 - val_accuracy: 0.8622 - 619ms/epoch - 5ms/step\n",
      "Epoch 8/100\n",
      "113/113 - 1s - loss: 0.5072 - accuracy: 0.8426 - val_loss: 0.4375 - val_accuracy: 0.8608 - 740ms/epoch - 7ms/step\n",
      "Epoch 9/100\n",
      "113/113 - 1s - loss: 0.4532 - accuracy: 0.8433 - val_loss: 0.3960 - val_accuracy: 0.8629 - 638ms/epoch - 6ms/step\n",
      "Epoch 10/100\n",
      "113/113 - 1s - loss: 0.4502 - accuracy: 0.8464 - val_loss: 0.4149 - val_accuracy: 0.8643 - 618ms/epoch - 5ms/step\n",
      "Epoch 11/100\n",
      "113/113 - 1s - loss: 0.4168 - accuracy: 0.8463 - val_loss: 0.3780 - val_accuracy: 0.8665 - 646ms/epoch - 6ms/step\n",
      "Epoch 12/100\n",
      "113/113 - 1s - loss: 0.4133 - accuracy: 0.8499 - val_loss: 0.3698 - val_accuracy: 0.8665 - 662ms/epoch - 6ms/step\n",
      "Epoch 13/100\n",
      "113/113 - 1s - loss: 0.3939 - accuracy: 0.8524 - val_loss: 0.3546 - val_accuracy: 0.8686 - 677ms/epoch - 6ms/step\n",
      "Epoch 14/100\n",
      "113/113 - 1s - loss: 0.3908 - accuracy: 0.8546 - val_loss: 0.3515 - val_accuracy: 0.8707 - 650ms/epoch - 6ms/step\n",
      "Epoch 15/100\n",
      "113/113 - 1s - loss: 0.3821 - accuracy: 0.8550 - val_loss: 0.3441 - val_accuracy: 0.8707 - 664ms/epoch - 6ms/step\n",
      "Epoch 16/100\n",
      "113/113 - 1s - loss: 0.3815 - accuracy: 0.8594 - val_loss: 0.3205 - val_accuracy: 0.8778 - 647ms/epoch - 6ms/step\n",
      "Epoch 17/100\n",
      "113/113 - 1s - loss: 0.3771 - accuracy: 0.8621 - val_loss: 0.3143 - val_accuracy: 0.8814 - 644ms/epoch - 6ms/step\n",
      "Epoch 18/100\n",
      "113/113 - 1s - loss: 0.3653 - accuracy: 0.8590 - val_loss: 0.3198 - val_accuracy: 0.8771 - 656ms/epoch - 6ms/step\n",
      "Epoch 19/100\n",
      "113/113 - 1s - loss: 0.3538 - accuracy: 0.8650 - val_loss: 0.3151 - val_accuracy: 0.8807 - 645ms/epoch - 6ms/step\n",
      "Epoch 20/100\n",
      "113/113 - 1s - loss: 0.3609 - accuracy: 0.8641 - val_loss: 0.3158 - val_accuracy: 0.8778 - 661ms/epoch - 6ms/step\n",
      "Epoch 21/100\n",
      "113/113 - 1s - loss: 0.3447 - accuracy: 0.8678 - val_loss: 0.3065 - val_accuracy: 0.8849 - 663ms/epoch - 6ms/step\n",
      "Epoch 22/100\n",
      "113/113 - 1s - loss: 0.3442 - accuracy: 0.8683 - val_loss: 0.3065 - val_accuracy: 0.8849 - 661ms/epoch - 6ms/step\n",
      "Epoch 23/100\n",
      "113/113 - 1s - loss: 0.3490 - accuracy: 0.8683 - val_loss: 0.2992 - val_accuracy: 0.8849 - 657ms/epoch - 6ms/step\n",
      "Epoch 24/100\n",
      "113/113 - 1s - loss: 0.3370 - accuracy: 0.8692 - val_loss: 0.2937 - val_accuracy: 0.8913 - 658ms/epoch - 6ms/step\n",
      "Epoch 25/100\n",
      "113/113 - 1s - loss: 0.3494 - accuracy: 0.8695 - val_loss: 0.2948 - val_accuracy: 0.8935 - 655ms/epoch - 6ms/step\n",
      "Epoch 26/100\n",
      "113/113 - 1s - loss: 0.3321 - accuracy: 0.8722 - val_loss: 0.2925 - val_accuracy: 0.8899 - 620ms/epoch - 5ms/step\n",
      "Epoch 27/100\n",
      "113/113 - 1s - loss: 0.3306 - accuracy: 0.8730 - val_loss: 0.2863 - val_accuracy: 0.8913 - 658ms/epoch - 6ms/step\n",
      "Epoch 28/100\n",
      "113/113 - 1s - loss: 0.3250 - accuracy: 0.8750 - val_loss: 0.2951 - val_accuracy: 0.8913 - 640ms/epoch - 6ms/step\n",
      "Epoch 29/100\n",
      "113/113 - 1s - loss: 0.3396 - accuracy: 0.8729 - val_loss: 0.2927 - val_accuracy: 0.8956 - 644ms/epoch - 6ms/step\n",
      "Epoch 30/100\n",
      "113/113 - 1s - loss: 0.3258 - accuracy: 0.8763 - val_loss: 0.3163 - val_accuracy: 0.8956 - 641ms/epoch - 6ms/step\n",
      "Epoch 31/100\n",
      "113/113 - 1s - loss: 0.3214 - accuracy: 0.8775 - val_loss: 0.2799 - val_accuracy: 0.8956 - 649ms/epoch - 6ms/step\n",
      "Epoch 32/100\n",
      "113/113 - 1s - loss: 0.3192 - accuracy: 0.8787 - val_loss: 0.2767 - val_accuracy: 0.8949 - 651ms/epoch - 6ms/step\n",
      "Epoch 33/100\n",
      "113/113 - 1s - loss: 0.3205 - accuracy: 0.8768 - val_loss: 0.2857 - val_accuracy: 0.8942 - 655ms/epoch - 6ms/step\n",
      "Epoch 34/100\n",
      "113/113 - 1s - loss: 0.3193 - accuracy: 0.8776 - val_loss: 0.2906 - val_accuracy: 0.8913 - 658ms/epoch - 6ms/step\n",
      "Epoch 35/100\n",
      "113/113 - 1s - loss: 0.3138 - accuracy: 0.8797 - val_loss: 0.2799 - val_accuracy: 0.8949 - 647ms/epoch - 6ms/step\n",
      "Epoch 36/100\n",
      "113/113 - 1s - loss: 0.3220 - accuracy: 0.8772 - val_loss: 0.2793 - val_accuracy: 0.8949 - 651ms/epoch - 6ms/step\n",
      "Epoch 37/100\n",
      "113/113 - 1s - loss: 0.3145 - accuracy: 0.8788 - val_loss: 0.2758 - val_accuracy: 0.8942 - 774ms/epoch - 7ms/step\n",
      "Epoch 38/100\n",
      "113/113 - 1s - loss: 0.3143 - accuracy: 0.8808 - val_loss: 0.2746 - val_accuracy: 0.8977 - 715ms/epoch - 6ms/step\n",
      "Epoch 39/100\n",
      "113/113 - 1s - loss: 0.3124 - accuracy: 0.8813 - val_loss: 0.2737 - val_accuracy: 0.8970 - 783ms/epoch - 7ms/step\n",
      "Epoch 40/100\n",
      "113/113 - 1s - loss: 0.3113 - accuracy: 0.8804 - val_loss: 0.2816 - val_accuracy: 0.8949 - 771ms/epoch - 7ms/step\n",
      "Epoch 41/100\n",
      "113/113 - 1s - loss: 0.3093 - accuracy: 0.8808 - val_loss: 0.2716 - val_accuracy: 0.8963 - 727ms/epoch - 6ms/step\n",
      "Epoch 42/100\n",
      "113/113 - 1s - loss: 0.3148 - accuracy: 0.8811 - val_loss: 0.2748 - val_accuracy: 0.8970 - 758ms/epoch - 7ms/step\n",
      "Epoch 43/100\n",
      "113/113 - 1s - loss: 0.3116 - accuracy: 0.8805 - val_loss: 0.2713 - val_accuracy: 0.8970 - 845ms/epoch - 7ms/step\n",
      "Epoch 44/100\n",
      "113/113 - 1s - loss: 0.3095 - accuracy: 0.8825 - val_loss: 0.2751 - val_accuracy: 0.8970 - 817ms/epoch - 7ms/step\n",
      "Epoch 45/100\n",
      "113/113 - 1s - loss: 0.3113 - accuracy: 0.8822 - val_loss: 0.2746 - val_accuracy: 0.8984 - 722ms/epoch - 6ms/step\n",
      "Epoch 46/100\n",
      "113/113 - 1s - loss: 0.3105 - accuracy: 0.8811 - val_loss: 0.2832 - val_accuracy: 0.8963 - 659ms/epoch - 6ms/step\n",
      "Epoch 47/100\n",
      "113/113 - 1s - loss: 0.3254 - accuracy: 0.8810 - val_loss: 0.2718 - val_accuracy: 0.8970 - 753ms/epoch - 7ms/step\n",
      "Epoch 48/100\n",
      "113/113 - 1s - loss: 0.3171 - accuracy: 0.8785 - val_loss: 0.2788 - val_accuracy: 0.8963 - 753ms/epoch - 7ms/step\n",
      "Epoch 49/100\n",
      "113/113 - 1s - loss: 0.3154 - accuracy: 0.8799 - val_loss: 0.2817 - val_accuracy: 0.8963 - 675ms/epoch - 6ms/step\n",
      "Epoch 50/100\n",
      "113/113 - 1s - loss: 0.3163 - accuracy: 0.8815 - val_loss: 0.2717 - val_accuracy: 0.8970 - 736ms/epoch - 7ms/step\n",
      "Epoch 51/100\n",
      "113/113 - 1s - loss: 0.3028 - accuracy: 0.8837 - val_loss: 0.2726 - val_accuracy: 0.8963 - 687ms/epoch - 6ms/step\n",
      "Epoch 52/100\n",
      "113/113 - 1s - loss: 0.3135 - accuracy: 0.8823 - val_loss: 0.2686 - val_accuracy: 0.8970 - 734ms/epoch - 6ms/step\n",
      "Epoch 53/100\n",
      "113/113 - 1s - loss: 0.3068 - accuracy: 0.8840 - val_loss: 0.2702 - val_accuracy: 0.8963 - 740ms/epoch - 7ms/step\n",
      "Epoch 54/100\n",
      "113/113 - 1s - loss: 0.3071 - accuracy: 0.8830 - val_loss: 0.2797 - val_accuracy: 0.8977 - 790ms/epoch - 7ms/step\n",
      "Epoch 55/100\n",
      "113/113 - 1s - loss: 0.3106 - accuracy: 0.8825 - val_loss: 0.2726 - val_accuracy: 0.8970 - 705ms/epoch - 6ms/step\n",
      "Epoch 56/100\n",
      "113/113 - 1s - loss: 0.3096 - accuracy: 0.8822 - val_loss: 0.2684 - val_accuracy: 0.8970 - 639ms/epoch - 6ms/step\n",
      "Epoch 57/100\n",
      "113/113 - 1s - loss: 0.3144 - accuracy: 0.8807 - val_loss: 0.2693 - val_accuracy: 0.8970 - 651ms/epoch - 6ms/step\n",
      "Epoch 58/100\n",
      "113/113 - 1s - loss: 0.3047 - accuracy: 0.8821 - val_loss: 0.2743 - val_accuracy: 0.8963 - 721ms/epoch - 6ms/step\n",
      "Epoch 59/100\n",
      "113/113 - 1s - loss: 0.3063 - accuracy: 0.8827 - val_loss: 0.2766 - val_accuracy: 0.8956 - 701ms/epoch - 6ms/step\n",
      "Epoch 60/100\n",
      "113/113 - 1s - loss: 0.3061 - accuracy: 0.8846 - val_loss: 0.2746 - val_accuracy: 0.8942 - 649ms/epoch - 6ms/step\n",
      "Epoch 61/100\n",
      "113/113 - 1s - loss: 0.3061 - accuracy: 0.8828 - val_loss: 0.2649 - val_accuracy: 0.8970 - 641ms/epoch - 6ms/step\n",
      "Epoch 62/100\n",
      "113/113 - 1s - loss: 0.3073 - accuracy: 0.8820 - val_loss: 0.2714 - val_accuracy: 0.8956 - 622ms/epoch - 6ms/step\n",
      "Epoch 63/100\n",
      "113/113 - 1s - loss: 0.3040 - accuracy: 0.8828 - val_loss: 0.2678 - val_accuracy: 0.8949 - 630ms/epoch - 6ms/step\n",
      "Epoch 64/100\n",
      "113/113 - 1s - loss: 0.3079 - accuracy: 0.8816 - val_loss: 0.2681 - val_accuracy: 0.8970 - 639ms/epoch - 6ms/step\n",
      "Epoch 65/100\n",
      "113/113 - 1s - loss: 0.3088 - accuracy: 0.8844 - val_loss: 0.2700 - val_accuracy: 0.8970 - 645ms/epoch - 6ms/step\n",
      "Epoch 66/100\n",
      "113/113 - 1s - loss: 0.3095 - accuracy: 0.8830 - val_loss: 0.2697 - val_accuracy: 0.8963 - 644ms/epoch - 6ms/step\n",
      "Epoch 67/100\n",
      "113/113 - 1s - loss: 0.3072 - accuracy: 0.8828 - val_loss: 0.2665 - val_accuracy: 0.8970 - 650ms/epoch - 6ms/step\n",
      "Epoch 68/100\n",
      "113/113 - 1s - loss: 0.3057 - accuracy: 0.8815 - val_loss: 0.2686 - val_accuracy: 0.8970 - 617ms/epoch - 5ms/step\n",
      "Epoch 69/100\n",
      "113/113 - 1s - loss: 0.3055 - accuracy: 0.8818 - val_loss: 0.2666 - val_accuracy: 0.8977 - 607ms/epoch - 5ms/step\n",
      "Epoch 70/100\n",
      "113/113 - 1s - loss: 0.2992 - accuracy: 0.8840 - val_loss: 0.2673 - val_accuracy: 0.8970 - 622ms/epoch - 6ms/step\n",
      "Epoch 71/100\n",
      "113/113 - 1s - loss: 0.2993 - accuracy: 0.8836 - val_loss: 0.2634 - val_accuracy: 0.8963 - 610ms/epoch - 5ms/step\n",
      "Epoch 72/100\n",
      "113/113 - 1s - loss: 0.3023 - accuracy: 0.8847 - val_loss: 0.2712 - val_accuracy: 0.8970 - 616ms/epoch - 5ms/step\n",
      "Epoch 73/100\n",
      "113/113 - 1s - loss: 0.3017 - accuracy: 0.8836 - val_loss: 0.2722 - val_accuracy: 0.8970 - 629ms/epoch - 6ms/step\n",
      "Epoch 74/100\n",
      "113/113 - 1s - loss: 0.3020 - accuracy: 0.8842 - val_loss: 0.2725 - val_accuracy: 0.8970 - 614ms/epoch - 5ms/step\n",
      "Epoch 75/100\n",
      "113/113 - 1s - loss: 0.3039 - accuracy: 0.8824 - val_loss: 0.2808 - val_accuracy: 0.8913 - 615ms/epoch - 5ms/step\n",
      "Epoch 76/100\n",
      "113/113 - 1s - loss: 0.3081 - accuracy: 0.8822 - val_loss: 0.2713 - val_accuracy: 0.8970 - 608ms/epoch - 5ms/step\n",
      "Epoch 77/100\n",
      "113/113 - 1s - loss: 0.3025 - accuracy: 0.8837 - val_loss: 0.2641 - val_accuracy: 0.8970 - 616ms/epoch - 5ms/step\n",
      "Epoch 78/100\n",
      "113/113 - 1s - loss: 0.2995 - accuracy: 0.8841 - val_loss: 0.2577 - val_accuracy: 0.8984 - 615ms/epoch - 5ms/step\n",
      "Epoch 79/100\n",
      "113/113 - 1s - loss: 0.3186 - accuracy: 0.8765 - val_loss: 0.2712 - val_accuracy: 0.8956 - 625ms/epoch - 6ms/step\n",
      "Epoch 80/100\n",
      "113/113 - 1s - loss: 0.3177 - accuracy: 0.8773 - val_loss: 0.2827 - val_accuracy: 0.8970 - 702ms/epoch - 6ms/step\n",
      "Epoch 81/100\n",
      "113/113 - 1s - loss: 0.3137 - accuracy: 0.8805 - val_loss: 0.2780 - val_accuracy: 0.8956 - 690ms/epoch - 6ms/step\n",
      "Epoch 82/100\n",
      "113/113 - 1s - loss: 0.3062 - accuracy: 0.8828 - val_loss: 0.2785 - val_accuracy: 0.8970 - 625ms/epoch - 6ms/step\n",
      "Epoch 83/100\n",
      "113/113 - 1s - loss: 0.3200 - accuracy: 0.8805 - val_loss: 0.2776 - val_accuracy: 0.8977 - 621ms/epoch - 5ms/step\n",
      "Epoch 84/100\n",
      "113/113 - 1s - loss: 0.3144 - accuracy: 0.8827 - val_loss: 0.2756 - val_accuracy: 0.8970 - 622ms/epoch - 6ms/step\n",
      "Epoch 85/100\n",
      "113/113 - 1s - loss: 0.3148 - accuracy: 0.8800 - val_loss: 0.2624 - val_accuracy: 0.8977 - 607ms/epoch - 5ms/step\n",
      "Epoch 86/100\n",
      "113/113 - 1s - loss: 0.3110 - accuracy: 0.8820 - val_loss: 0.2701 - val_accuracy: 0.8949 - 626ms/epoch - 6ms/step\n",
      "Epoch 87/100\n",
      "113/113 - 1s - loss: 0.3207 - accuracy: 0.8788 - val_loss: 0.2842 - val_accuracy: 0.8963 - 614ms/epoch - 5ms/step\n",
      "Epoch 88/100\n",
      "113/113 - 1s - loss: 0.3105 - accuracy: 0.8818 - val_loss: 0.2678 - val_accuracy: 0.8963 - 616ms/epoch - 5ms/step\n",
      "Epoch 89/100\n",
      "113/113 - 1s - loss: 0.3152 - accuracy: 0.8813 - val_loss: 0.2810 - val_accuracy: 0.8963 - 618ms/epoch - 5ms/step\n",
      "Epoch 90/100\n",
      "113/113 - 1s - loss: 0.3107 - accuracy: 0.8828 - val_loss: 0.2808 - val_accuracy: 0.8942 - 622ms/epoch - 6ms/step\n",
      "Epoch 91/100\n",
      "113/113 - 1s - loss: 0.3139 - accuracy: 0.8805 - val_loss: 0.2712 - val_accuracy: 0.8970 - 618ms/epoch - 5ms/step\n",
      "Epoch 92/100\n",
      "113/113 - 1s - loss: 0.3018 - accuracy: 0.8839 - val_loss: 0.2744 - val_accuracy: 0.8956 - 624ms/epoch - 6ms/step\n",
      "Epoch 93/100\n",
      "113/113 - 1s - loss: 0.3165 - accuracy: 0.8815 - val_loss: 0.2732 - val_accuracy: 0.8970 - 632ms/epoch - 6ms/step\n",
      "Epoch 94/100\n",
      "113/113 - 1s - loss: 0.3043 - accuracy: 0.8843 - val_loss: 0.3433 - val_accuracy: 0.8970 - 706ms/epoch - 6ms/step\n",
      "Epoch 95/100\n",
      "113/113 - 1s - loss: 0.3062 - accuracy: 0.8857 - val_loss: 0.2666 - val_accuracy: 0.8970 - 692ms/epoch - 6ms/step\n",
      "Epoch 96/100\n",
      "113/113 - 1s - loss: 0.3011 - accuracy: 0.8844 - val_loss: 0.2673 - val_accuracy: 0.8970 - 656ms/epoch - 6ms/step\n",
      "Epoch 97/100\n",
      "113/113 - 1s - loss: 0.3003 - accuracy: 0.8857 - val_loss: 0.2646 - val_accuracy: 0.8970 - 655ms/epoch - 6ms/step\n",
      "Epoch 98/100\n",
      "113/113 - 1s - loss: 0.3145 - accuracy: 0.8820 - val_loss: 0.2880 - val_accuracy: 0.8828 - 644ms/epoch - 6ms/step\n",
      "Epoch 99/100\n",
      "113/113 - 1s - loss: 0.3177 - accuracy: 0.8776 - val_loss: 0.2659 - val_accuracy: 0.8963 - 633ms/epoch - 6ms/step\n",
      "Epoch 100/100\n",
      "113/113 - 1s - loss: 0.3196 - accuracy: 0.8827 - val_loss: 0.2739 - val_accuracy: 0.8963 - 609ms/epoch - 5ms/step\n"
     ]
    },
    {
     "data": {
      "text/plain": [
       "<keras.callbacks.History at 0x1d0e4019220>"
      ]
     },
     "execution_count": 12,
     "metadata": {},
     "output_type": "execute_result"
    }
   ],
   "source": [
    "input_size = 10\n",
    "output_size = 2\n",
    "hidden_layer_size = 500\n",
    "\n",
    "model = tf.keras.Sequential([\n",
    "    \t\t\t\t\t\ttf.keras.layers.Dense(hidden_layer_size, activation =\"relu\"),\t\t\n",
    "    \t\t\t\t\t\ttf.keras.layers.Dropout(0.3),\n",
    "    \t\t\t\t\t\ttf.keras.layers.Dense(hidden_layer_size, activation =\"relu\"),\n",
    "    \t\t\t\t\t\ttf.keras.layers.Dropout(0.3),\n",
    "    \t\t\t\t\t\ttf.keras.layers.Dense(output_size, activation=\"sigmoid\")]\n",
    "\t\t\t\t\t\t\t)\n",
    "\n",
    "model.compile(optimizer=\"adam\", loss=\"sparse_categorical_crossentropy\", metrics=[\"accuracy\"])\n",
    "\n",
    "batch_size = 100\n",
    "\n",
    "max_epochs = 100\n",
    "\n",
    "early_stopping = tf.keras.callbacks.EarlyStopping(patience=2)\n",
    "\n",
    "model.fit(train_inputs,\n",
    "         train_targets,\n",
    "         batch_size = batch_size,\n",
    "         epochs = max_epochs,\n",
    "         validation_data=(validation_inputs,validation_targets),\n",
    "         verbose = 2)"
   ]
  },
  {
   "cell_type": "code",
   "execution_count": 13,
   "id": "98471e4e-54b5-435e-ac80-7cf3d220ccc4",
   "metadata": {},
   "outputs": [
    {
     "name": "stdout",
     "output_type": "stream",
     "text": [
      "44/44 [==============================] - 0s 2ms/step - loss: 0.2739 - accuracy: 0.8963\n"
     ]
    }
   ],
   "source": [
    "test_loss, test_accuracy = model.evaluate(test_inputs, test_targets)"
   ]
  },
  {
   "cell_type": "code",
   "execution_count": 14,
   "id": "e0f04c23-89c9-4b39-b95a-d062cd7b724d",
   "metadata": {},
   "outputs": [
    {
     "name": "stdout",
     "output_type": "stream",
     "text": [
      "Test loss: 0.27. Test accuracy: 89.63%\n"
     ]
    }
   ],
   "source": [
    "print(\"Test loss: {0:.2f}. Test accuracy: {1:.2f}%\".format(test_loss, test_accuracy*100))"
   ]
  },
  {
   "cell_type": "code",
   "execution_count": 15,
   "id": "80dd0d40-1849-4de8-8939-7b1a9f036f90",
   "metadata": {},
   "outputs": [
    {
     "data": {
      "text/html": [
       "<div>\n",
       "<style scoped>\n",
       "    .dataframe tbody tr th:only-of-type {\n",
       "        vertical-align: middle;\n",
       "    }\n",
       "\n",
       "    .dataframe tbody tr th {\n",
       "        vertical-align: top;\n",
       "    }\n",
       "\n",
       "    .dataframe thead th {\n",
       "        text-align: right;\n",
       "    }\n",
       "</style>\n",
       "<table border=\"1\" class=\"dataframe\">\n",
       "  <thead>\n",
       "    <tr style=\"text-align: right;\">\n",
       "      <th></th>\n",
       "      <th>ID</th>\n",
       "      <th>BookLength(mins)_overall</th>\n",
       "      <th>BookLength(mins)_avg</th>\n",
       "      <th>Price_overall</th>\n",
       "      <th>Price_avg</th>\n",
       "      <th>Review</th>\n",
       "      <th>Review10/10</th>\n",
       "      <th>Minutes_listened</th>\n",
       "      <th>Completion</th>\n",
       "      <th>Support_requests</th>\n",
       "      <th>Last_visited_minus_purchase_date</th>\n",
       "    </tr>\n",
       "  </thead>\n",
       "  <tbody>\n",
       "    <tr>\n",
       "      <th>14</th>\n",
       "      <td>19313</td>\n",
       "      <td>2160.0</td>\n",
       "      <td>2160</td>\n",
       "      <td>7.03</td>\n",
       "      <td>7.03</td>\n",
       "      <td>0</td>\n",
       "      <td>8.91</td>\n",
       "      <td>0.0</td>\n",
       "      <td>0.0</td>\n",
       "      <td>0</td>\n",
       "      <td>0</td>\n",
       "    </tr>\n",
       "  </tbody>\n",
       "</table>\n",
       "</div>"
      ],
      "text/plain": [
       "       ID  BookLength(mins)_overall  BookLength(mins)_avg  Price_overall  \\\n",
       "14  19313                    2160.0                  2160           7.03   \n",
       "\n",
       "    Price_avg  Review  Review10/10  Minutes_listened  Completion  \\\n",
       "14       7.03       0         8.91               0.0         0.0   \n",
       "\n",
       "    Support_requests  Last_visited_minus_purchase_date  \n",
       "14                 0                                 0  "
      ]
     },
     "execution_count": 15,
     "metadata": {},
     "output_type": "execute_result"
    }
   ],
   "source": [
    "test_inputs[:1]"
   ]
  },
  {
   "cell_type": "code",
   "execution_count": 16,
   "id": "90bdd492-6cc8-4986-80aa-1201d5a13b56",
   "metadata": {},
   "outputs": [
    {
     "data": {
      "text/plain": [
       "14    0\n",
       "Name: Targets, dtype: int64"
      ]
     },
     "execution_count": 16,
     "metadata": {},
     "output_type": "execute_result"
    }
   ],
   "source": [
    "test_targets[:1]"
   ]
  },
  {
   "cell_type": "code",
   "execution_count": 17,
   "id": "80128616-b987-45c5-9aa6-124bf05aa383",
   "metadata": {},
   "outputs": [
    {
     "name": "stdout",
     "output_type": "stream",
     "text": [
      "1/1 [==============================] - 0s 139ms/step\n",
      "prediction shape: (1, 2) Prediction: [[0.67616504 0.323835  ]]\n"
     ]
    }
   ],
   "source": [
    "prediction = model.predict(test_inputs[:1])\n",
    "print(\"prediction shape:\", prediction.shape, \"Prediction:\", prediction)"
   ]
  }
 ],
 "metadata": {
  "kernelspec": {
   "display_name": "Python 3 (ipykernel)",
   "language": "python",
   "name": "python3"
  },
  "language_info": {
   "codemirror_mode": {
    "name": "ipython",
    "version": 3
   },
   "file_extension": ".py",
   "mimetype": "text/x-python",
   "name": "python",
   "nbconvert_exporter": "python",
   "pygments_lexer": "ipython3",
   "version": "3.9.6"
  }
 },
 "nbformat": 4,
 "nbformat_minor": 5
}
